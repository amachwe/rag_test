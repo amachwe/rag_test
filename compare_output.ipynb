{
 "cells": [
  {
   "cell_type": "code",
   "execution_count": 4,
   "metadata": {},
   "outputs": [],
   "source": [
    "import tensorflow as tf\n",
    "from matplotlib import pyplot as plt\n",
    "from keras import layers, losses, optimizers, models, metrics\n",
    "import numpy as np\n",
    "import pandas as pd\n",
    "from collections import Counter\n",
    "\n",
    "from sentence_transformers import SentenceTransformer, util\n"
   ]
  },
  {
   "cell_type": "code",
   "execution_count": 2,
   "metadata": {},
   "outputs": [
    {
     "name": "stderr",
     "output_type": "stream",
     "text": [
      "Downloading .gitattributes: 100%|██████████| 1.18k/1.18k [00:00<00:00, 167kB/s]\n",
      "Downloading 1_Pooling/config.json: 100%|██████████| 190/190 [00:00<00:00, 21.1kB/s]\n",
      "Downloading README.md: 100%|██████████| 10.6k/10.6k [00:00<00:00, 5.27MB/s]\n",
      "Downloading config.json: 100%|██████████| 571/571 [00:00<00:00, 81.9kB/s]\n",
      "Downloading (…)ce_transformers.json: 100%|██████████| 116/116 [00:00<00:00, 29.0kB/s]\n",
      "Downloading data_config.json: 100%|██████████| 39.3k/39.3k [00:00<00:00, 6.55MB/s]\n",
      "Downloading pytorch_model.bin: 100%|██████████| 438M/438M [00:13<00:00, 32.9MB/s] \n",
      "Downloading (…)nce_bert_config.json: 100%|██████████| 53.0/53.0 [00:00<00:00, 13.4kB/s]\n",
      "Downloading (…)cial_tokens_map.json: 100%|██████████| 239/239 [00:00<00:00, 26.5kB/s]\n",
      "Downloading tokenizer.json: 100%|██████████| 466k/466k [00:00<00:00, 2.81MB/s]\n",
      "Downloading tokenizer_config.json: 100%|██████████| 363/363 [00:00<00:00, 90.0kB/s]\n",
      "Downloading train_script.py: 100%|██████████| 13.1k/13.1k [00:00<00:00, 1.48MB/s]\n",
      "Downloading vocab.txt: 100%|██████████| 232k/232k [00:00<00:00, 19.3MB/s]\n",
      "Downloading modules.json: 100%|██████████| 349/349 [00:00<00:00, 116kB/s]\n"
     ]
    }
   ],
   "source": [
    "model = SentenceTransformer('sentence-transformers/all-mpnet-base-v2')"
   ]
  },
  {
   "cell_type": "code",
   "execution_count": 12,
   "metadata": {},
   "outputs": [],
   "source": [
    "\n",
    "#Remove line 165 (South Delhi) line as it is a singleton from content_log.txt\n",
    "with open(\"session_log.txt\",\"r\") as fh:\n",
    "    data = fh.readlines()\n",
    "    output = list(map(lambda x: x.strip()[11:], filter(lambda x: True if x.strip().startswith('\\\"content') else False, data)))\n",
    "    if len(output) < 0:\n",
    "        raise Exception(\"No rows extracted\")\n",
    "    # with open(\"content_log.txt\",\"w\") as wfh:\n",
    "    #     list(map(lambda x: wfh.write(x+\"\\n\"), output))\n",
    "        "
   ]
  },
  {
   "cell_type": "code",
   "execution_count": 14,
   "metadata": {},
   "outputs": [],
   "source": [
    "def compare_output(rag,non_rag):\n",
    "    ln_rag = len(rag)\n",
    "    ln_non_rag = len(non_rag)\n",
    "    len_diff = abs(ln_rag-ln_non_rag)\n",
    "\n",
    "    count = 0\n",
    "    for idx, l in enumerate(rag):\n",
    "        if idx >= len(non_rag):\n",
    "            break\n",
    "        \n",
    "        if l == non_rag[idx]:\n",
    "            count +=1 \n",
    "\n",
    "    return len_diff, count, round(count*100/ln_rag,2), round(count*100/ln_non_rag,2)\n",
    "\n",
    "def term_frequency(line):\n",
    "    line = line.replace(\"\\\"\",\"\").replace(\",\",\"\")\n",
    "    words = line.split(\" \")\n",
    "\n",
    "    c = Counter(words)\n",
    "    for i in c:\n",
    "    \n",
    "        c[i]=c[i]/len(words)\n",
    "    \n",
    "    return c\n",
    "\n",
    "def similarity(line1, line2):\n",
    "    e1 = model.encode(line1)\n",
    "    e2 = model.encode(line2)\n",
    "\n",
    "    return util.dot_score(e1,e2).item()\n"
   ]
  },
  {
   "cell_type": "code",
   "execution_count": 17,
   "metadata": {},
   "outputs": [
    {
     "data": {
      "image/png": "[encoded data removed]",
      "text/plain": [
       "<Figure size 432x288 with 1 Axes>"
      ]
     },
     "metadata": {
      "needs_background": "light"
     },
     "output_type": "display_data"
    }
   ],
   "source": [
    "simi = []\n",
    "perx = []\n",
    "pery = []\n",
    "\n",
    "with open(\"content_log.txt\", \"r\") as fh:\n",
    "    lines = fh.readlines()\n",
    "    for i in range(0,len(lines), 2):\n",
    "        simi.append(similarity(lines[i],lines[i+1]))\n",
    "        a,b,x,y = compare_output(lines[i], lines[i+1])\n",
    "        perx.append(x)\n",
    "        pery.append(y)\n",
    "\n",
    "plt.plot(perx, simi,'.')\n",
    "plt.plot(pery, simi,'.')\n",
    "plt.show()"
   ]
  }
 ],
 "metadata": {
  "kernelspec": {
   "display_name": "Python 3",
   "language": "python",
   "name": "python3"
  },
  "language_info": {
   "codemirror_mode": {
    "name": "ipython",
    "version": 3
   },
   "file_extension": ".py",
   "mimetype": "text/x-python",
   "name": "python",
   "nbconvert_exporter": "python",
   "pygments_lexer": "ipython3",
   "version": "3.8.6"
  }
 },
 "nbformat": 4,
 "nbformat_minor": 2
}
